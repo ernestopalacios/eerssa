{
 "cells": [
  {
   "cell_type": "markdown",
   "metadata": {},
   "source": [
    "# Conexión con MongoDB"
   ]
  },
  {
   "cell_type": "markdown",
   "metadata": {},
   "source": [
    "## Simple Upload"
   ]
  },
  {
   "cell_type": "code",
   "execution_count": null,
   "metadata": {},
   "outputs": [],
   "source": [
    "!pip install pymongo"
   ]
  },
  {
   "cell_type": "code",
   "execution_count": null,
   "metadata": {},
   "outputs": [],
   "source": [
    "from google.colab import userdata\n",
    "import pymongo\n",
    "import pickle\n",
    "import pandas as pd\n",
    "\n",
    "\n",
    "uri = userdata.get('MONGO_KEY')\n",
    "client = pymongo.MongoClient( uri )\n",
    "\n",
    "# Ping para confirmar que se ha establecido la conexion\n",
    "try:\n",
    "    client.admin.command('ping')\n",
    "    print(\"Conexion exitosa!!!!\")\n",
    "except Exception as e:\n",
    "    print(e)"
   ]
  },
  {
   "cell_type": "code",
   "execution_count": null,
   "metadata": {},
   "outputs": [],
   "source": [
    "db_eerssa = client.eerssa                      # Base de datos EERSSA\n",
    "MongoColl_TDD = db_eerssa.ot_TDD   # Coleccion para pruebas de carga de datos version 0.10\n",
    "MongoColl_ot_v10 = db_eerssa.ot_v10"
   ]
  },
  {
   "cell_type": "code",
   "execution_count": null,
   "metadata": {},
   "outputs": [],
   "source": [
    "# cargar la db_dictionary - Array de JSON Files\n",
    "path_test = '/content/drive/MyDrive/Colab_Disk/OT/2023_PyMu_Todos_a_dict.pkl'\n",
    "with open( path_test, 'rb' ) as fp:\n",
    "    db_dictionary = pickle.load(fp)\n",
    "\n",
    "len(db_dictionary)"
   ]
  },
  {
   "cell_type": "code",
   "execution_count": null,
   "metadata": {},
   "outputs": [],
   "source": [
    "# Upload each element to db_collection_prueba\n",
    "\n",
    "for ot in db_dictionary:\n",
    "    MongoColl_ot_v10.insert_one( ot )"
   ]
  },
  {
   "cell_type": "markdown",
   "metadata": {},
   "source": []
  }
 ],
 "metadata": {
  "language_info": {
   "name": "python"
  }
 },
 "nbformat": 4,
 "nbformat_minor": 2
}
